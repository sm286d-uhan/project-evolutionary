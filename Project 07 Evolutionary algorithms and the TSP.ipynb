{
 "cells": [
  {
   "cell_type": "markdown",
   "metadata": {},
   "source": [
    "<h4 class='prehead'>SM286D &middot; Introduction to Applied Mathematics with Python &middot; Spring 2020 &middot; Foraker/Traves/Uhan</h4>\n",
    "\n",
    "<h3 class='lesson'>Project 6.</h3>\n",
    "\n",
    "<h1 class='lesson_title'>Evolutionary algorithms and the TSP</h1>"
   ]
  },
  {
   "cell_type": "markdown",
   "metadata": {},
   "source": [
    "__Mathematical goals.__  Permutations, evolutionary algorithms.\n",
    "\n",
    "__Programming goals.__ Coding from pseudocode, functions, the Cartopy package, randomization."
   ]
  },
  {
   "cell_type": "markdown",
   "metadata": {},
   "source": [
    "---"
   ]
  },
  {
   "cell_type": "markdown",
   "metadata": {},
   "source": [
    "## Background"
   ]
  },
  {
   "cell_type": "markdown",
   "metadata": {},
   "source": [
    "In 2004, UPS trucks stopped turning left. The world's largest package delivery company found that it could save time and fuel if it rerouted its fleet of trucks so that they only made right turns rather than waiting to make left turns against oncoming traffic. By 2012, the rule, along with some other improvements to its operations, had saved 10 million gallons of gasoline &mdash; the equivalent of taking 5300 cars off the road for a year! For more details, see [this Priceonomics blog post](https://priceonomics.com/why-ups-trucks-dont-turn-left/).\n",
    "\n",
    "<img src=\"img/ups-truck.jpg\" alt=\"Drawing\" style=\"width: 600px;\"/>\n",
    "\n",
    "Arranging delivery routes with only right turns can be tricky; it is an interesting example of a whole class of problems called __vehicle routing problems__. In this assignment, we'll use an evolutionary algorithm to solve the most famous of all routing problems, the __traveling salesperson problem (TSP)__."
   ]
  },
  {
   "cell_type": "markdown",
   "metadata": {},
   "source": [
    "Imagine a sales professional who needs to leave their office, travel to a collection of clients, and return to the office. What is the shortest or fastest path that visits all clients and returns to the office? In some cases, the salesperson might need to travel long distances, visiting clients in different cities before returning home. Whether our goal is to minimize the time spent traveling or the cost spent visiting clients, the problem is essentially the same. There is a list of locations (often thought of as cities), including the home city, and a matrix whose $(i,j)$ entry encodes the distance or cost from city $i$ to city $j$. Our goal is to find an order to visit the cities that minimizes the distance traveled, including the distance from the last city back to the first city. "
   ]
  },
  {
   "cell_type": "markdown",
   "metadata": {},
   "source": [
    "While it might seem most efficient to always travel to the closest city that hasn't yet been visited, there are many examples where this approach does not yield the minimum distance route. The TSP became popular in the USA during the 1950's and 1960's, when the RAND  Corporation offered cash prizes for its solution. In 1972, Richard Karp showed that the TSP is *NP-hard*, which explains why solving the TSP with many cities is often incredibly difficult. You will study various algorithms for solving the TSP in SA405 &mdash; Advanced Mathematical Programming. "
   ]
  },
  {
   "cell_type": "markdown",
   "metadata": {},
   "source": [
    "_Note._ The RAND (Research ANd Development) Corporation is a nonprofit organization partially funded by the United States government. It originally worked on defense-related problems and was particularly influential in the development of operations research. Many top scientists and mathematicians have worked for RAND and it remains an important organization."
   ]
  },
  {
   "cell_type": "markdown",
   "metadata": {},
   "source": [
    "We're going to use a heuristic &mdash; an evolutionary algorithm &mdash; to find good solutions to the TSP. The method doesn't necessarily produce the best solution, but it is fast and flexible and often produces acceptable solutions within a few seconds. The method is inspired by the process of biological evolution in which each generation of parents mates to produce children who share some of the parents' characteristics. The fittest of these children survive to mate and produce the next generation of children. After many generations, the children are often exceptionally fit. We need not be completely faithful to this biological inspiration. We are free to entertain models in which a single parent produces children, or situations where three or more parents are required to produce children. There are also many ways to define and use fitness. In addition, we might find ways to improve the children -- allowing them to develop into adults -- before imposing our selection procedure. "
   ]
  },
  {
   "cell_type": "markdown",
   "metadata": {},
   "source": [
    "---"
   ]
  },
  {
   "cell_type": "markdown",
   "metadata": {},
   "source": [
    "## Your assignment"
   ]
  },
  {
   "cell_type": "markdown",
   "metadata": {},
   "source": [
    "### Problem 1\n",
    "\n",
    "In this assignment, we'll use a genetic algorithm to find a heuristic solution to the TSP that visits each of the Major League Baseball stadiums. \n",
    "\n",
    "The names and locations of all the stadiums are stored in the Excel workbook `baseball_stadiums.xlsx` (in the same folder as this notebook). For each stadium, we have its name, its city and state, and its latitude and longitude. \n",
    "\n",
    "Using `xlwings` load this data into lists named `stadiums`, `cities`, `lats` and `longs`. Print a list of the cities."
   ]
  },
  {
   "cell_type": "code",
   "execution_count": null,
   "metadata": {},
   "outputs": [],
   "source": [
    "import xlwings as xw\n",
    "..."
   ]
  },
  {
   "cell_type": "markdown",
   "metadata": {},
   "source": [
    "### Problem 2\n",
    "\n",
    "The code below uses Cartopy to produces a map of the United States with major waterways and borders. Use the `ax.plot` method to add stadium locations to the map. Mark the stadium locations with red dots. "
   ]
  },
  {
   "cell_type": "code",
   "execution_count": null,
   "metadata": {},
   "outputs": [],
   "source": [
    "import cartopy \n",
    "import matplotlib.pyplot as plt\n",
    "\n",
    "# Set up a Matplotlib figure and axes\n",
    "# Put the map of the United States on these axes\n",
    "# along with geographical features\n",
    "fig = plt.figure(figsize=(20, 20))\n",
    "ax = plt.axes(projection=cartopy.crs.PlateCarree())\n",
    "ax.add_feature(cartopy.feature.LAND)\n",
    "ax.add_feature(cartopy.feature.OCEAN)\n",
    "ax.add_feature(cartopy.feature.COASTLINE)\n",
    "ax.add_feature(cartopy.feature.BORDERS, linestyle='-')\n",
    "ax.add_feature(cartopy.feature.STATES, linestyle=':')\n",
    "ax.add_feature(cartopy.feature.LAKES, alpha=0.5)\n",
    "ax.add_feature(cartopy.feature.RIVERS)\n",
    "ax.set_extent([-130, -60, 25, 50])\n",
    "\n",
    "# Write your code here to plot the park locations\n",
    "...\n",
    "\n",
    "# Show the plot\n",
    "plt.show()"
   ]
  },
  {
   "cell_type": "markdown",
   "metadata": {},
   "source": [
    "### Problem 3\n",
    "\n",
    "We need the distance between stadiums. Suppose we have two points with longitude and latitude $(long_1,lat_1)$ and $(long_2,lat_2)$, given in radians. Assuming that the Earth is a sphere of radius $R = 6371000$ meters, the distance between these two points is \n",
    "\n",
    "\\begin{equation*}\n",
    "R \\arccos(\\sin(lat_1)\\sin(lat_2)+\\cos(lat_1)\\cos(lat_2)\\cos(long_2-long_1)).\n",
    "\\end{equation*}\n",
    "\n",
    "This distance is given in meters. We can convert it into miles by multiplying by the conversion factor `0.621371/1000`. \n",
    "\n",
    "Write a function `airdist` that takes as input the longitude and latitude of 2 points in degrees, and returns the distance between these 2 points in miles. Document your function with a docstring."
   ]
  },
  {
   "cell_type": "code",
   "execution_count": null,
   "metadata": {
    "run_control": {
     "marked": false
    }
   },
   "outputs": [],
   "source": [
    "import numpy as np\n",
    "\n",
    "def airdist(lat1, long1, lat2, long2):\n",
    "    \"\"\" ... \"\"\"\n",
    "    ...\n",
    "    return ..."
   ]
  },
  {
   "cell_type": "markdown",
   "metadata": {},
   "source": [
    "### Problem 4\n",
    "\n",
    "Using the `len` function, set `numparks` to the number of ballparks or stadiums (30).\n",
    "\n",
    "Use the `airdist` function to compute a `numparks` $\\times$ `numparks` matrix named `distances`, whose $(i,j)$ entry is the distance in miles between stadium number $i$ and stadium number $j$. Ensure that all diagonal entries of this matrix are 0.\n",
    "\n",
    "Check your work: print a sentence showing that the distance between stadiums 1 and 3 is about 1892.124."
   ]
  },
  {
   "cell_type": "code",
   "execution_count": null,
   "metadata": {},
   "outputs": [],
   "source": [
    "# Number of ballparks\n",
    "numparks = ...\n",
    "\n",
    "# Distance matrix\n",
    "distances = ...\n",
    "...\n",
    "\n",
    "# Check your work\n",
    "print(...)"
   ]
  },
  {
   "cell_type": "markdown",
   "metadata": {},
   "source": [
    "### Problem 5\n",
    "\n",
    "We store each route through the stadiums as a permutation of the numbers 0 to 29. We will represent permutations as lists. \n",
    "\n",
    "For instance, the permutation consisting of the numbers 0 through 29 in order would correspond to the route that starts at stadium 0, then goes to stadium 1, then stadium 2, etc., and until it reaches stadium 29. Then we return to stadium 0.\n",
    "\n",
    "Write a function `circuitlength` that takes as input a permutation `perm` of the numbers `0, 1, ..., n - 1` and a `n` $\\times$ `n` distance matrix `distances`, and returns the length of the circuit corresponding to `perm`.\n",
    "\n",
    "Check your work: print a sentence confirming that the `circuitlength` of the permutation\n",
    "\n",
    "\\begin{equation*}\n",
    "[0,1,2,3,...,14,29,28,27,...,15]\n",
    "\\end{equation*}\n",
    "\n",
    "is about 35719.668."
   ]
  },
  {
   "cell_type": "code",
   "execution_count": null,
   "metadata": {},
   "outputs": [],
   "source": [
    "def circuitlength(..., ...):\n",
    "    \"\"\" ... \"\"\"\n",
    "\n",
    "    ...\n",
    "    \n",
    "    return ...\n",
    "\n",
    "\n",
    "# Check your work\n",
    "p = ...\n",
    "print(f\"The circuit length of the given permutation is {circuitlength(p, distances)}.\")"
   ]
  },
  {
   "cell_type": "markdown",
   "metadata": {},
   "source": [
    "### Problem 6\n",
    "\n",
    "In our genetic algorithm, a parent consists of (1) a permutation $p$ of $[0,1,\\ldots,29]$ and (2) a score, which is equal to the length $\\ell$ of the corresponding circuit. This score is given by the function `circuitlength` you defined in the previous problem.\n",
    "\n",
    "We start our genetic algorithm by generating 10 random parents. \n",
    "\n",
    "We want to choose the permutations randomly, but we also want to be able to reproduce your answers so we can grade them 😏. So we set a seed in the random number generator in Python, allowing us to run your code again and again, each time producing the same random output. \n",
    "\n",
    "Read the code below and print the last parent."
   ]
  },
  {
   "cell_type": "code",
   "execution_count": null,
   "metadata": {},
   "outputs": [],
   "source": [
    "# Number of parents\n",
    "numparents = 10\n",
    "\n",
    "# Set a seed for the random number generator\n",
    "# Using the same seed results in the same random numbers generated\n",
    "np.random.seed(210000)\n",
    "\n",
    "# Create a list of parents\n",
    "# Each parent is a dictionary consisting of \n",
    "# a permutation, and the length of the corresponding circuit\n",
    "parents = []\n",
    "for i in range(numparents):\n",
    "    # Make a random permutation of the list containing 0, 1, ..., 60\n",
    "    # Since np.random.permutation returns a NumPy array, \n",
    "    # we convert it to a list\n",
    "    perm = list(np.random.permutation(list(range(numparks))))\n",
    "    \n",
    "    # Add the random permutation and corresponding circuit length\n",
    "    parents.append({'perm': perm, 'score': circuitlength(perm, distances)})\n",
    "    \n",
    "# Write your code below\n",
    "..."
   ]
  },
  {
   "cell_type": "markdown",
   "metadata": {},
   "source": [
    "### Problem 7\n",
    "\n",
    "Define a function `next_elt` that \n",
    "\n",
    "- takes as input a permutation `perm` and an element `elt` of the permutation, and \n",
    "- returns the element in the circuit corresponding to `perm` that comes immediately after element `elt`. \n",
    "\n",
    "For example, `next_elt([0, 2, 1], 2)` returns `1`, and `next_elt([0, 2, 1], 1)` returns `0`. \n",
    "\n",
    "Check your work. Run your function on these two cases and print the results."
   ]
  },
  {
   "cell_type": "code",
   "execution_count": null,
   "metadata": {},
   "outputs": [],
   "source": [
    "def next_elt(perm, elt):\n",
    "    \"\"\" ... \"\"\"\n",
    "    ...\n",
    "    \n",
    "print(...)\n",
    "print(...)"
   ]
  },
  {
   "cell_type": "markdown",
   "metadata": {},
   "source": [
    "### Problem 8\n",
    "\n",
    "Define a function `previous_elt` that \n",
    "\n",
    "- takes as input a permutation `perm` and an element `elt`, and \n",
    "- returns the element in the circuit corresponding to `perm` that comes immediately before element `elt`. \n",
    "\n",
    "For example, `previous_elt([0, 2, 1], 2)` returns `0`, and `previous_elt([0, 2, 1], 0)` returns `1`. \n",
    "\n",
    "Check your work. Run your function on these two cases and print the results."
   ]
  },
  {
   "cell_type": "code",
   "execution_count": null,
   "metadata": {},
   "outputs": [],
   "source": [
    "def previous_elt(perm,elt):\n",
    "    \"\"\" ... \"\"\"\n",
    "    ...\n",
    "    \n",
    "print(...)\n",
    "print(...)"
   ]
  },
  {
   "cell_type": "markdown",
   "metadata": {},
   "source": [
    "### Problem 9\n",
    "\n",
    "The code below defines a function `invert_selection` that takes as input a permutation `perm`, an element `c` and a second element `cp`. The function returns a new permutation, which is obtained from `perm` by reversing the permutation from just after element `c` to just after element `cp`. For example, if \n",
    "\n",
    "<pre>\n",
    "perm = [7, 2, 3, <span style=\"color:blue\">9, 4, 1, 5,</span> 8, 6]\n",
    "</pre>\n",
    "\n",
    "and `c = 3` and `cp = 5`, then `invert_selection` returns\n",
    "\n",
    "<pre>\n",
    "newperm = [7, 2, 3, <span style=\"color:blue\">5, 1, 4, 9,</span> 8, 6].\n",
    "</pre>\n",
    "\n",
    "In fact, a slightly different permutation is returned that gives an equivalent circuit to `newperm`: it follows the same tour but starts at a different element; this is irrelevant for our purposes. \n",
    "\n",
    "A second example shows that this isn't as simple as it might seem: if \n",
    "\n",
    "<pre>\n",
    "perm = [<span style=\"color:blue\">7, </span>2, 3, <span style=\"color:blue\">9, 4, 1, 5, 8, 6</span>]\n",
    "</pre>\n",
    "\n",
    "and `c = 3` as before but `cp = 7` then we need to wrap around to get the output \n",
    "\n",
    "<pre>\n",
    "newperm = [<span style=\"color:blue\">9</span>, 2, 3, <span style=\"color:blue\">7, 6, 8, 5, 1, 4</span>].\n",
    "</pre>\n",
    "\n",
    "Read through the definition of `invert_selection` below. Add a docstring describing the function."
   ]
  },
  {
   "cell_type": "code",
   "execution_count": null,
   "metadata": {},
   "outputs": [],
   "source": [
    "def invert_selection(perm, c, cp):\n",
    "    \"\"\" ... \"\"\"\n",
    "    # We effectively rotate the permutation so that it starts \n",
    "    # just after c and ends at c.\n",
    "    # This is helpful since it means that the portion of the \n",
    "    # permutation that we are reversing is at the start.\n",
    "\n",
    "    # Length of permutation\n",
    "    n = len(perm)\n",
    "    \n",
    "    # Double the permutation\n",
    "    double_perm = perm + perm\n",
    "    \n",
    "    # Find the first index corresponding to c\n",
    "    c_index = double_perm.index(c)\n",
    "    \n",
    "    # Rotate the permutation to start just after and end at c\n",
    "    rotated_perm = double_perm[c_index + 1:c_index + n + 1]\n",
    "    \n",
    "    # Reverse the initial part of the rotated permutation,\n",
    "    # between elements c and cp\n",
    "    cp_index = rotated_perm.index(cp)\n",
    "    \n",
    "    newperm = rotated_perm[cp_index::-1] + rotated_perm[cp_index + 1::1]\n",
    "    return newperm"
   ]
  },
  {
   "cell_type": "markdown",
   "metadata": {},
   "source": [
    "### Problem 10  \n",
    "\n",
    "Set the variable `num_gens` equal to 10000."
   ]
  },
  {
   "cell_type": "code",
   "execution_count": null,
   "metadata": {},
   "outputs": [],
   "source": [
    "num_gens = ..."
   ]
  },
  {
   "cell_type": "markdown",
   "metadata": {},
   "source": [
    "### Problem 11\n",
    "\n",
    "Now we will implement the **inver-over algorithm** for the TSP. The inver-over algorithm is a type of genetic algorithm. Each parent gives rise to a single child (no parents are mated). That child starts off looking exactly like the parent. Modifications are done to the child, and then we either discard the child if its score is greater than that of the parent, or replace the parent with the child if the child's score is lower than that of the parent.\n",
    "\n",
    "_Note._ For more details on the inver-over algorithm, see pages 220-23 of How to Solve It: Modern Heuristics, Second Edition, by Zbigniew Michalewicz and David B. Fogel. Also see G. Tao and Z. Michaelewicz, Evolutionary Algorithms for the TSP, on pages 803-812 of the _Proceedings of the 5th Parallel Problem Solving from Nature Conference_, Lecture Notes in Computer Science, Vol. 1498, 1998, Springer, Berlin. \n",
    "\n",
    "Here's pseudocode describing the inver-over algorithm:"
   ]
  },
  {
   "cell_type": "markdown",
   "metadata": {},
   "source": [
    "<p>\n",
    "(01) <b>procedure</b> inver_over <br/>\n",
    "(02) random initialization of the population $P$ <br/>\n",
    "(03) <b>while</b> (termination-condition not satisfied) <b>do</b> <br/>\n",
    "(04) <b>begin</b> <br/>\n",
    "(05) <span style=\"margin-left:2em\"><b>for</b> each individual $S_i \\in P$ <b>do</b> </span><br>\n",
    "(06) <span style=\"margin-left:2em\"><b>begin</b> </span><br>\n",
    "(07) <span style=\"margin-left:4em\">$S' \\leftarrow S_i$</span><br>\n",
    "(08) <span style=\"margin-left:4em\">select (randomly) an element $c$ from $S'$</span><br>\n",
    "(09) <span style=\"margin-left:4em\"><b>repeat</b></span><br>\n",
    "(10) <span style=\"margin-left:6em\"><b>if</b> (rand() $\\leq p$)</span><br>\n",
    "(11) <span style=\"margin-left:8em\">select (randomly) an element $c'$ from $S' - \\{c\\}$</span><br>\n",
    "(12) <span style=\"margin-left:6em\"><b>else</b></span><br>\n",
    "(13) <span style=\"margin-left:8em\">select (randomly) an individual $T$ from $P$</span><br>\n",
    "(14) <span style=\"margin-left:8em\">let $c'$ be the next element after the city $c$ in $T$</span><br>\n",
    "(15) <span style=\"margin-left:6em\"><b>if</b> (the next element or the previous element of city $c$ in $S'$ is $c'$)</span><br>\n",
    "(16) <span style=\"margin-left:8em\"><b>exit</b> from repeat loop</span><br>\n",
    "(17) <span style=\"margin-left:6em\">invert the section from the next element of $c$ to the element $c'$ in $S'$</span><br>\n",
    "(18) <span style=\"margin-left:6em\">$c \\leftarrow c'$</span><br>\n",
    "(19) <span style=\"margin-left:4em\"><b>if</b> ($score(S') \\leq score(S_i))$</span><br>\n",
    "(20) <span style=\"margin-left:6em\">$S_i \\leftarrow S'$</span><br>\n",
    "(21) <span style=\"margin-left:2em\"><b>end</b></span><br>\n",
    "(22) <b>end</b> <br>    \n",
    "</p>"
   ]
  },
  {
   "cell_type": "markdown",
   "metadata": {},
   "source": [
    "Let's walk through this pseudocode:\n",
    "\n",
    "- Line (01) defines a procedure (i.e. an algorithm implemented in a block of code) called inver_over. \n",
    "\n",
    "\n",
    "- On line (02), we initialize the population $P$ of parents. You've already done this in Problem 6, where we stored the population $P$ of parents in the list `parents`. \n",
    "\n",
    "\n",
    "- Line (03) mentions a termination condition in a while loop. We'll iterate until we've completed `num_gens` passes of the while loop; the code inside the while loop starts at line (04) and ends on line (22). \n",
    "\n",
    "\n",
    "- Line (05) describes a for loop that operates once for each parent. $S_i$ refers to the permutation associated with the $i$-th parent. The code inside the for loop starts at line (06) and ends on line (21). \n",
    "\n",
    "\n",
    "- On line (07), we store the contents of $S_i$ in the variable $S'$.\n",
    "\n",
    "\n",
    "- On line (08), we pick a random element $c$ from $S'$. The element $c$ refers to its label rather than its position in $S'$, so $c = 23$ if we pick stadium 23, even if $c$ occurs in the first spot in the permutation $S'$. \n",
    "\n",
    "\n",
    "- On line (09), we see the word `repeat`. This means that we are to repeat the following indented block of code &mdash; beginning at line (10) and ending at line (18) &mdash; until something pushes us out of the repeat loop, like on line (16). This is like a while loop without a while loop condition! You can use `while` with `break` to program this in Python. \n",
    "\n",
    "\n",
    "- On line (10), the parameter $p$ appears. It represents a low probability. We'll use $p = 0.02$. The if statement on line (10) ends after line (14). Note that on line (11), you are not allowed to select element $c'$ equal to element $c$. \n",
    "\n",
    "\n",
    "- On line (13), $T$ refers to the permutation associated with a randomly selected parent. Here is a place where parents interact, so the procedure does borrow some \"DNA\" from other parents. \n",
    "\n",
    "\n",
    "- On line (14), the code refers to the next element after element $c$; you've already written code to find this next element in Problem 7. Similarly, on line (15) you'll want to use your code from Problem 8. \n",
    "\n",
    "\n",
    "- The if statement on line (15) ends after line (16). \n",
    "\n",
    "\n",
    "- On line (17), you'll use your code from Problem 9 to invert the portion of the permutation following element $c$ to just after element $c'$; update $S'$ to reflect this inversion. \n",
    "\n",
    "\n",
    "- Line (19) mentions a _score_ function. As we've done above, we'll use `circuitlength` to evaluate the fitness of our routes. Note that if the child is more fit than their parent, then they replace the parent (on line (20)). To do this, update the `parents` list.\n",
    "\n",
    "\n",
    "This is a huge amount of information to take in! 🤯 However, each of the individual parts of this question are well within your capabilities. You'll need to carefully organize your thinking and workflow to complete this problem. This is a good skill to work on, so we have deliberately not broken this part of the project down into smaller steps. Some hints to organizing your thinking are provided in the \"template\" code below.    "
   ]
  },
  {
   "cell_type": "markdown",
   "metadata": {},
   "source": [
    "Write the code corresponding to the pseudo-code (and comments) above in the code block below. There's a skeleton of code to get you started, with the following variable names:\n",
    "\n",
    "| Pseudocode | $\\leftrightarrow$ | Python code |\n",
    "|-------|-------------------|------|\n",
    "| $S_i$ | $\\leftrightarrow$ | `si` |\n",
    "| $S'$ | $\\leftrightarrow$ | `sp` |\n",
    "| $c$ | $\\leftrightarrow$ | `c` |\n",
    "| $c'$ | $\\leftrightarrow$ | `cp` |\n",
    "| $T$ | $\\leftrightarrow$ | `t` |"
   ]
  },
  {
   "cell_type": "code",
   "execution_count": null,
   "metadata": {},
   "outputs": [],
   "source": [
    "import numpy as np\n",
    "\n",
    "# Recall:\n",
    "#  np.random.randint(a, b) returns a random integer between a and b - 1, inclusive\n",
    "#  np.random.random() returns a random number between 0 and 1\n",
    "\n",
    "p = 0.02\n",
    "num_passes = ...\n",
    "\n",
    "while ...:  # line (03)\n",
    "    for i in ...:  # line (05)\n",
    "        si = ...  # line (05)\n",
    "        sp = ...  # line (07)\n",
    "        c = ... # line (08)\n",
    "        \n",
    "        while ...:  # line (09)\n",
    "            if ...:  # line (10)\n",
    "                # Implement line (11) - may take several lines\n",
    "                cp = ...\n",
    "                ...\n",
    "\n",
    "            else:  # line (12)\n",
    "                t = ...  # line (13)\n",
    "                cp = ...  # line (14)\n",
    "                \n",
    "            if ...: # line (15)\n",
    "                break  # line (16)\n",
    "            \n",
    "            sp = ...  # line (17)\n",
    "            c = ... # line (18)\n",
    "        \n",
    "        if ...: # line (19)\n",
    "            ...  # line (20)\n",
    "            \n",
    "    num_passes ..."
   ]
  },
  {
   "cell_type": "markdown",
   "metadata": {},
   "source": [
    "### Problem 12\n",
    "\n",
    "After implementing and running the inver-over algorithm, print the fittest parent's route (permutation), as well as the length of the corresponding circuit."
   ]
  },
  {
   "cell_type": "code",
   "execution_count": null,
   "metadata": {},
   "outputs": [],
   "source": []
  },
  {
   "cell_type": "markdown",
   "metadata": {},
   "source": [
    "### Problem 13.\n",
    "\n",
    "Print the names of the stadiums in the order in which you visit them. Include the stadium you visit first twice, once at the beginning, and once at the end."
   ]
  },
  {
   "cell_type": "code",
   "execution_count": null,
   "metadata": {},
   "outputs": [],
   "source": []
  },
  {
   "cell_type": "markdown",
   "metadata": {},
   "source": [
    "### Problem 14.\n",
    "\n",
    "Plot the resulting circuit (in black) on top of your figure from Problem 2.  "
   ]
  },
  {
   "cell_type": "code",
   "execution_count": null,
   "metadata": {},
   "outputs": [],
   "source": []
  },
  {
   "cell_type": "markdown",
   "metadata": {},
   "source": [
    "---"
   ]
  },
  {
   "cell_type": "markdown",
   "metadata": {},
   "source": [
    "## When you're finished"
   ]
  },
  {
   "cell_type": "markdown",
   "metadata": {},
   "source": [
    "- Make sure your notebook runs from top to bottom with no errors. One way to accomplish this is to click on __Kernel &#8594; Restart & Run All__. This will restart Python, and run your notebook from top to bottom."
   ]
  },
  {
   "cell_type": "markdown",
   "metadata": {},
   "source": [
    "- When you're ready, submit this notebook using the SM286D Submission Form linked on the [class website](https://www.usna.edu/users/math/uhan/sm286d/)."
   ]
  },
  {
   "cell_type": "markdown",
   "metadata": {},
   "source": [
    "---"
   ]
  },
  {
   "cell_type": "markdown",
   "metadata": {},
   "source": [
    "## Grading"
   ]
  },
  {
   "cell_type": "markdown",
   "metadata": {},
   "source": [
    "Your work will be graded as follows: (100 total points)\n",
    "\n",
    "- Problem 1\n",
    "    - Get information from the Excel file (4 pts)\n",
    "    - Print list of cities (1 pt)\n",
    "- Problem 2\n",
    "    - Add code to plot the stadiums with red dots (3 pts)\n",
    "- Problem 3\n",
    "    - Write docstring (1 pts)\n",
    "    - Convert angles (2 pts)\n",
    "    - Compute distance in meters (2 pts)\n",
    "    - Convert to miles and return (2 pts)\n",
    "- Problem 4\n",
    "    - Set value of `numparks` (1 pt)\n",
    "    - Make `distances` matrix (3 pts)\n",
    "    - Ensure diagonals of `distances` are zero (1 pt)\n",
    "    - Check (1,3) entry of `distances` (1 pt)\n",
    "- Problem 5\n",
    "    - Correctly define `circuitlength` (6 pts)\n",
    "    - Write docstring (1 pt)\n",
    "    - Define test permutation (2 pts)\n",
    "    - Call `circuitlength` on test permutation and print (2 pts)\n",
    "- Problem 6\n",
    "    - Print last parent (1 pt)\n",
    "- Problem 7\n",
    "    - Correctly define `next_elt` function (4 pts)\n",
    "    - Write docstring (1 pt)\n",
    "    - Print 2 correct tests (2 pts)\n",
    "- Problem 8\n",
    "    - Correctly define `previous_elt` function (4 pts)\n",
    "    - Write docstring (1pt)\n",
    "    - Print 2 correct tests (2 pts)\n",
    "- Problem 9\n",
    "    - Write docstring (1 pts)\n",
    "- Problem 10\n",
    "    - Set value of `num_gens` (1 pt)\n",
    "- Problem 11\n",
    "    - (03) While loop with correct termination condition (2 points)\n",
    "    - (05) For loop correctly iterates over every parent permutation $S_i$ (2 points)\n",
    "    - (07) $S'$ correctly updated (1 points)\n",
    "    - (08) $c$ correctly selected at random (2 points)\n",
    "    - (09) Repeat loop setup correctly, given break in line (16) (2 points)\n",
    "    - (10) If statement condition correct (2 points)\n",
    "    - (11) $c'$ correctly selected at random, not equal to $c$ (4 points)\n",
    "    - (13) $T$ correctly selected at random (2 points)\n",
    "    - (14) $c'$ correctly selected from $T$ (2 points)\n",
    "    - (15) If statement condition correct (2 points)\n",
    "    - (17) Section of $S'$ correctly inverted (2 points)\n",
    "    - (18) $c$ correctly updated (1 points)\n",
    "    - (19) If statement condition correct (2 points)\n",
    "    - (20) Correctly replace parent with child (3 points)\n",
    "    - `num_passes` updated correctly (1 point)\n",
    "- Problem 12\n",
    "    - Identify fittest parent (3 pts)\n",
    "    - Print circuit (2 pts)\n",
    "    - Print length (2 pts)\n",
    "- Problem 13\n",
    "    - Print list of stadium names in correct order (3 pts)\n",
    "    - List of stadium names returns to starting stadium (2 pts)\n",
    "- Problem 14\n",
    "    - Plot the circuit with black lines (4 pts)\n",
    "- All problems: helpful comments throughout your code (5 points)  "
   ]
  }
 ],
 "metadata": {
  "kernelspec": {
   "display_name": "Python 3",
   "language": "python",
   "name": "python3"
  },
  "language_info": {
   "codemirror_mode": {
    "name": "ipython",
    "version": 3
   },
   "file_extension": ".py",
   "mimetype": "text/x-python",
   "name": "python",
   "nbconvert_exporter": "python",
   "pygments_lexer": "ipython3",
   "version": "3.7.6"
  }
 },
 "nbformat": 4,
 "nbformat_minor": 2
}
